{
  "nbformat": 4,
  "nbformat_minor": 0,
  "metadata": {
    "colab": {
      "provenance": []
    },
    "kernelspec": {
      "name": "python3",
      "display_name": "Python 3"
    },
    "language_info": {
      "name": "python"
    }
  },
  "cells": [
    {
      "cell_type": "code",
      "execution_count": null,
      "metadata": {
        "id": "y88v7FAFN1Y3"
      },
      "outputs": [],
      "source": [
        "#1.What is a random variable in probability theory?"
      ]
    },
    {
      "cell_type": "code",
      "source": [
        "A random variable is a fundamental concept in probability theory and statistics. It is a variable whose possible values are outcomes of a random phenomenon. There are two main types of random variables: discrete and continuous.\n",
        "\n",
        "Definition of a Random Variable\n",
        "A random variable is a function that assigns a numerical value to each outcome in a sample space of a random experiment.\n",
        "\n",
        "Formally, a random variable\n",
        "𝑋\n",
        "X is a function:\n",
        "\n",
        "𝑋\n",
        ":\n",
        "Ω\n",
        "→\n",
        "𝑅\n",
        "X:Ω→R\n",
        "where\n",
        "Ω\n",
        "Ω is the sample space (set of all possible outcomes of the experiment) and\n",
        "𝑅\n",
        "R is the set of real numbers."
      ],
      "metadata": {
        "id": "ZwQNlaL5N80J"
      },
      "execution_count": null,
      "outputs": []
    },
    {
      "cell_type": "code",
      "source": [
        "#2. What are the types of random variables)"
      ],
      "metadata": {
        "id": "HKNRV9ujN860"
      },
      "execution_count": null,
      "outputs": []
    },
    {
      "cell_type": "code",
      "source": [
        "Types of Random Variables\n",
        "Discrete Random Variable:\n",
        "\n",
        "Takes on a countable number of distinct values (e.g., integers).\n",
        "\n",
        "Examples:\n",
        "\n",
        "Number of heads in a coin toss.\n",
        "Number of defective items in a batch.\n",
        "Represented by a probability mass function (PMF):\n",
        "\n",
        "𝑃\n",
        "(\n",
        "𝑋\n",
        "=\n",
        "𝑥\n",
        ")\n",
        "=\n",
        "𝑝\n",
        "(\n",
        "𝑥\n",
        ")\n",
        ",\n",
        "where\n",
        "∑\n",
        "𝑥\n",
        "𝑝\n",
        "(\n",
        "𝑥\n",
        ")\n",
        "=\n",
        "1\n",
        "P(X=x)=p(x),where\n",
        "x\n",
        "∑\n",
        "​\n",
        " p(x)=1\n",
        "Continuous Random Variable:\n",
        "\n",
        "Takes on an uncountable number of values (e.g., real numbers within an interval).\n",
        "\n",
        "Examples:\n",
        "\n",
        "The height of students in a class.\n",
        "The time it takes to complete a task.\n",
        "Represented by a probability density function (PDF):\n",
        "\n",
        "𝑃\n",
        "(\n",
        "𝑎\n",
        "≤\n",
        "𝑋\n",
        "≤\n",
        "𝑏\n",
        ")\n",
        "=\n",
        "∫\n",
        "𝑎\n",
        "𝑏\n",
        "𝑓\n",
        "(\n",
        "𝑥\n",
        ")\n",
        "\n",
        "𝑑\n",
        "𝑥\n",
        ",\n",
        "where\n",
        "∫\n",
        "−\n",
        "∞\n",
        "∞\n",
        "𝑓\n",
        "(\n",
        "𝑥\n",
        ")\n",
        "\n",
        "𝑑\n",
        "𝑥\n",
        "=\n",
        "1\n",
        "P(a≤X≤b)=∫\n",
        "a\n",
        "b\n",
        "​\n",
        " f(x)dx,where ∫\n",
        "−∞\n",
        "∞\n",
        "​\n",
        " f(x)dx=1"
      ],
      "metadata": {
        "id": "kA-KqEb6N9A1"
      },
      "execution_count": null,
      "outputs": []
    },
    {
      "cell_type": "code",
      "source": [
        "#3.What is the difference between discrete and continuous distributions?"
      ],
      "metadata": {
        "id": "9CyFY_ZoN9FS"
      },
      "execution_count": null,
      "outputs": []
    },
    {
      "cell_type": "code",
      "source": [
        "Discrete Distribution: Describes the probability of outcomes of a discrete random variable\n",
        " (e.g., rolling a die). Each outcome has a specific probability.\n",
        "Continuous Distribution: Describes the probability of outcomes of a continuous random variable.\n",
        " Probabilities are determined over intervals and are expressed using a probability density function (PDF).\n"
      ],
      "metadata": {
        "id": "wJeD891lN9KN"
      },
      "execution_count": null,
      "outputs": []
    },
    {
      "cell_type": "code",
      "source": [
        "#4. What are probability distribution functions (PDF)?"
      ],
      "metadata": {
        "id": "UX35R45qN9Na"
      },
      "execution_count": null,
      "outputs": []
    },
    {
      "cell_type": "code",
      "source": [
        "Probability Distribution Functions (PDF)\n",
        "A PDF describes the likelihood of a random variable taking a specific value (discrete) or a range of values (continuous).\n",
        "\n",
        "Discrete Case:\n",
        "𝑃\n",
        "(\n",
        "𝑋\n",
        "=\n",
        "𝑥\n",
        ")\n",
        "P(X=x) gives the probability of\n",
        "𝑋\n",
        "X taking the value\n",
        "𝑥\n",
        "x.\n",
        "Continuous Case:\n",
        "𝑓\n",
        "(\n",
        "𝑥\n",
        ")\n",
        "f(x), where the probability is computed as\n",
        "𝑃\n",
        "(\n",
        "𝑎\n",
        "≤\n",
        "𝑋\n",
        "≤\n",
        "𝑏\n",
        ")\n",
        "=\n",
        "∫\n",
        "𝑎\n",
        "𝑏\n",
        "𝑓\n",
        "(\n",
        "𝑥\n",
        ")\n",
        "\n",
        "𝑑\n",
        "𝑥\n",
        "P(a≤X≤b)=∫\n",
        "a\n",
        "b\n",
        "​\n",
        " f(x)dx.\n"
      ],
      "metadata": {
        "id": "0aDke-LGN9Qt"
      },
      "execution_count": null,
      "outputs": []
    },
    {
      "cell_type": "code",
      "source": [
        "#5 How do cumulative distribution functions (CDF) differ from probability distribution functions (PDF))"
      ],
      "metadata": {
        "id": "z_zx6ndoN9Ty"
      },
      "execution_count": null,
      "outputs": []
    },
    {
      "cell_type": "code",
      "source": [
        "Cumulative Distribution Functions (CDF)\n",
        "A CDF represents the cumulative probability that a random variable\n",
        "𝑋\n",
        "X takes a value less than or equal to\n",
        "𝑥\n",
        "x.\n",
        "\n",
        "Formula:\n",
        "𝐹\n",
        "(\n",
        "𝑥\n",
        ")\n",
        "=\n",
        "𝑃\n",
        "(\n",
        "𝑋\n",
        "≤\n",
        "𝑥\n",
        ")\n",
        "F(x)=P(X≤x) for all\n",
        "𝑥\n",
        "x.\n",
        "The key difference is that:\n",
        "A PDF gives the likelihood of a specific value (or interval in continuous cases).\n",
        "A CDF accumulates these probabilities up to a value.\n"
      ],
      "metadata": {
        "id": "TrbRJNq4N9Xg"
      },
      "execution_count": null,
      "outputs": []
    },
    {
      "cell_type": "code",
      "source": [
        "#6. What is a discrete uniform distribution?"
      ],
      "metadata": {
        "id": "8glLeqUON9bb"
      },
      "execution_count": null,
      "outputs": []
    },
    {
      "cell_type": "code",
      "source": [
        "Discrete Uniform Distribution\n",
        "A discrete uniform distribution assigns an equal probability to each possible value of a discrete random variable.\n",
        "\n",
        "Example: Rolling a fair 6-sided die, where\n",
        "𝑃\n",
        "(\n",
        "𝑋\n",
        "=\n",
        "𝑥\n",
        ")\n",
        "=\n",
        "1\n",
        "6\n",
        "P(X=x)=\n",
        "6\n",
        "1\n",
        "​\n",
        "  for\n",
        "𝑥\n",
        "=\n",
        "1\n",
        ",\n",
        "2\n",
        ",\n",
        "3\n",
        ",\n",
        "4\n",
        ",\n",
        "5\n",
        ",\n",
        "6\n",
        "x=1,2,3,4,5,6."
      ],
      "metadata": {
        "id": "3viKBb9UN9fO"
      },
      "execution_count": null,
      "outputs": []
    },
    {
      "cell_type": "code",
      "source": [
        "#7.What are the key properties of a Bernoulli distribution)"
      ],
      "metadata": {
        "id": "80hsUyTzO8iH"
      },
      "execution_count": null,
      "outputs": []
    },
    {
      "cell_type": "code",
      "source": [
        "Key Properties of a Bernoulli Distribution\n",
        "A random experiment with two possible outcomes: \"success\" (1) and \"failure\" (0).\n",
        "Parameter:\n",
        "𝑝\n",
        "p, the probability of success.\n",
        "Mean:\n",
        "𝜇\n",
        "=\n",
        "𝑝\n",
        "μ=p\n",
        "Variance:\n",
        "𝜎\n",
        "2\n",
        "=\n",
        "𝑝\n",
        "(\n",
        "1\n",
        "−\n",
        "𝑝\n",
        ")\n",
        "σ\n",
        "2\n",
        " =p(1−p)"
      ],
      "metadata": {
        "id": "aT2opP9FO8ps"
      },
      "execution_count": null,
      "outputs": []
    },
    {
      "cell_type": "code",
      "source": [
        "#8. What is the binomial distribution, and how is it used in probability)"
      ],
      "metadata": {
        "id": "tNMo9_aeO8t7"
      },
      "execution_count": null,
      "outputs": []
    },
    {
      "cell_type": "code",
      "source": [
        "Binomial Distribution\n",
        "The binomial distribution models the number of successes in\n",
        "𝑛\n",
        "n independent Bernoulli trials.\n",
        "\n",
        "Formula:\n",
        "𝑃\n",
        "(\n",
        "𝑋\n",
        "=\n",
        "𝑘\n",
        ")\n",
        "=\n",
        "(\n",
        "𝑛\n",
        "𝑘\n",
        ")\n",
        "𝑝\n",
        "𝑘\n",
        "(\n",
        "1\n",
        "−\n",
        "𝑝\n",
        ")\n",
        "𝑛\n",
        "−\n",
        "𝑘\n",
        "P(X=k)=(\n",
        "k\n",
        "n\n",
        "​\n",
        " )p\n",
        "k\n",
        " (1−p)\n",
        "n−k\n",
        " , where\n",
        "𝑘\n",
        "=\n",
        "0\n",
        ",\n",
        "1\n",
        ",\n",
        "…\n",
        ",\n",
        "𝑛\n",
        "k=0,1,…,n.\n",
        "Use: Ideal for modeling scenarios like flipping a coin\n",
        "𝑛\n",
        "n times or testing\n",
        "𝑛\n",
        "n products for defects."
      ],
      "metadata": {
        "id": "kAjR2eVbO8yL"
      },
      "execution_count": null,
      "outputs": []
    },
    {
      "cell_type": "code",
      "source": [
        "#9. What is the Poisson distribution and where is it applied)"
      ],
      "metadata": {
        "id": "66zO_VJJO82l"
      },
      "execution_count": null,
      "outputs": []
    },
    {
      "cell_type": "code",
      "source": [
        "Poisson Distribution\n",
        "The Poisson distribution models the number of events occurring in a fixed interval of time or space, under the assumption that events occur independently and at a constant average rate\n",
        "𝜆\n",
        "λ.\n",
        "\n",
        "Formula:\n",
        "𝑃\n",
        "(\n",
        "𝑋\n",
        "=\n",
        "𝑘\n",
        ")\n",
        "=\n",
        "𝜆\n",
        "𝑘\n",
        "𝑒\n",
        "−\n",
        "𝜆\n",
        "𝑘\n",
        "!\n",
        "P(X=k)=\n",
        "k!\n",
        "λ\n",
        "k\n",
        " e\n",
        "−λ\n",
        "\n",
        "​\n",
        " , where\n",
        "𝑘\n",
        "=\n",
        "0\n",
        ",\n",
        "1\n",
        ",\n",
        "2\n",
        ",\n",
        "…\n",
        "k=0,1,2,….\n",
        "Applications: Modeling rare events, such as calls received at a call center or system failures.\n"
      ],
      "metadata": {
        "id": "fIVk1lYvO87M"
      },
      "execution_count": null,
      "outputs": []
    },
    {
      "cell_type": "code",
      "source": [
        "#10.What is a continuous uniform distribution)"
      ],
      "metadata": {
        "id": "Zik_Qv3YO8-6"
      },
      "execution_count": null,
      "outputs": []
    },
    {
      "cell_type": "code",
      "source": [
        "Continuous Uniform Distribution\n",
        "A continuous uniform distribution describes a random variable that has an equal probability of taking any value within a specified interval\n",
        "[\n",
        "𝑎\n",
        ",\n",
        "𝑏\n",
        "]\n",
        "[a,b].\n",
        "\n",
        "PDF:\n",
        "𝑓\n",
        "(\n",
        "𝑥\n",
        ")\n",
        "=\n",
        "1\n",
        "𝑏\n",
        "−\n",
        "𝑎\n",
        "f(x)=\n",
        "b−a\n",
        "1\n",
        "​\n",
        "  for\n",
        "𝑎\n",
        "≤\n",
        "𝑥\n",
        "≤\n",
        "𝑏\n",
        "a≤x≤b.\n",
        "Mean:\n",
        "𝜇\n",
        "=\n",
        "𝑎\n",
        "+\n",
        "𝑏\n",
        "2\n",
        "μ=\n",
        "2\n",
        "a+b\n",
        "​\n",
        "\n",
        "Variance:\n",
        "𝜎\n",
        "2\n",
        "=\n",
        "(\n",
        "𝑏\n",
        "−\n",
        "𝑎\n",
        ")\n",
        "2\n",
        "12\n",
        "σ\n",
        "2\n",
        " =\n",
        "12\n",
        "(b−a)\n",
        "2\n",
        "\n",
        "​\n"
      ],
      "metadata": {
        "id": "p4aUxloPO9Cg"
      },
      "execution_count": null,
      "outputs": []
    },
    {
      "cell_type": "code",
      "source": [
        "#11. What are the characteristics of a normal distribution)"
      ],
      "metadata": {
        "id": "RgDxKGkZO9zF"
      },
      "execution_count": null,
      "outputs": []
    },
    {
      "cell_type": "code",
      "source": [
        "Characteristics of a Normal Distribution:\n",
        "Symmetry: The curve is symmetric about the mean.\n",
        "Bell-shaped: The highest point is at the mean, and the curve tapers off symmetrically on both sides.\n",
        "Mean = Median = Mode: All three measures of central tendency are equal.\n",
        "Defined by two parameters: Mean (\n",
        "𝜇\n",
        "μ) and standard deviation (\n",
        "𝜎\n",
        "σ).\n",
        "Empirical Rule: About 68% of data lies within 1 standard deviation of the mean, 95% within 2, and 99.7% within 3."
      ],
      "metadata": {
        "id": "A5cVAp7QO93N"
      },
      "execution_count": null,
      "outputs": []
    },
    {
      "cell_type": "code",
      "source": [
        "#12. What is the standard normal distribution, and why is it important)"
      ],
      "metadata": {
        "id": "HCQ_3YqgO97G"
      },
      "execution_count": null,
      "outputs": []
    },
    {
      "cell_type": "code",
      "source": [
        "Definition: A standard normal distribution is a normal distribution with a mean of 0 and a standard deviation of 1.\n",
        "Importance:\n",
        "It standardizes datasets for comparison.\n",
        "Z-scores are calculated using the standard normal distribution, facilitating hypothesis testing and confidence intervals."
      ],
      "metadata": {
        "id": "skdXsFjcO9-b"
      },
      "execution_count": null,
      "outputs": []
    },
    {
      "cell_type": "code",
      "source": [
        "#13. What is the Central Limit Theorem (CLT), and why is it critical in statistics)"
      ],
      "metadata": {
        "id": "TbKk7WHtO-B0"
      },
      "execution_count": null,
      "outputs": []
    },
    {
      "cell_type": "code",
      "source": [
        "Central Limit Theorem (CLT) and Its Importance:\n",
        "Definition: The CLT states that the sampling distribution of the sample mean approaches a normal distribution as the sample size increases, regardless of the population's distribution.\n",
        "Importance:\n",
        "Enables the use of normal distribution methods for hypothesis testing and confidence intervals.\n",
        "Facilitates analysis in inferential statistics, even with non-normal populations."
      ],
      "metadata": {
        "id": "mBbf1fGzO-Ex"
      },
      "execution_count": null,
      "outputs": []
    },
    {
      "cell_type": "code",
      "source": [
        "#14. How does the Central Limit Theorem relate to the normal distribution)"
      ],
      "metadata": {
        "id": "x1cIyvzvO-Iy"
      },
      "execution_count": null,
      "outputs": []
    },
    {
      "cell_type": "code",
      "source": [
        "CLT and Its Relation to the Normal Distribution:\n",
        "The CLT guarantees that the means of sufficiently large random samples will form a normal distribution.\n",
        "This normality applies even if the original population distribution is skewed or not normal.\n"
      ],
      "metadata": {
        "id": "fJL-NQ-bO-MY"
      },
      "execution_count": null,
      "outputs": []
    },
    {
      "cell_type": "code",
      "source": [
        "#15. What is the application of Z statistics in hypothesis testing)"
      ],
      "metadata": {
        "id": "3TXFJ17rO-Pc"
      },
      "execution_count": null,
      "outputs": []
    },
    {
      "cell_type": "code",
      "source": [
        "Application of Z-Statistics in Hypothesis Testing:\n",
        "Definition: Z-statistics are used to determine how far a sample mean deviates from the population mean in terms of standard deviations.\n",
        "Applications:\n",
        "Testing population means and proportions.\n",
        "Determining p-values for hypothesis tests."
      ],
      "metadata": {
        "id": "Baf7LiwQO-St"
      },
      "execution_count": null,
      "outputs": []
    },
    {
      "cell_type": "code",
      "source": [
        "#16. > How do you calculate a Z-score, and what does it represent)"
      ],
      "metadata": {
        "id": "mSsoPLa4O-Wa"
      },
      "execution_count": null,
      "outputs": []
    },
    {
      "cell_type": "code",
      "source": [
        "Calculating a Z-Score and Its Representation:\n",
        "Formula:\n",
        "𝑍\n",
        "=\n",
        "𝑋\n",
        "−\n",
        "𝜇\n",
        "𝜎\n",
        "Z=\n",
        "σ\n",
        "X−μ\n",
        "​\n",
        "\n",
        "𝑋\n",
        "X: Individual data point.\n",
        "𝜇\n",
        "μ: Population mean.\n",
        "𝜎\n",
        "σ: Population standard deviation.\n",
        "Representation: Indicates how many standard deviations a data point is from the mean."
      ],
      "metadata": {
        "id": "5VLIVxMbO-aC"
      },
      "execution_count": null,
      "outputs": []
    },
    {
      "cell_type": "code",
      "source": [
        "#17. What are point estimates and interval estimates in statistics)"
      ],
      "metadata": {
        "id": "gV3BVdUdO-c8"
      },
      "execution_count": null,
      "outputs": []
    },
    {
      "cell_type": "code",
      "source": [
        "Point Estimates and Interval Estimates:\n",
        "Point Estimate: A single value used to estimate a population parameter\n",
        "(e.g., sample mean for population mean).\n",
        "Interval Estimate: A range of values\n",
        "(e.g., confidence intervals) that is likely to contain the population parameter."
      ],
      "metadata": {
        "id": "1W9ta2TMO-gJ"
      },
      "execution_count": null,
      "outputs": []
    },
    {
      "cell_type": "code",
      "source": [
        "#18. What is the significance of confidence intervals in statistical analysis)"
      ],
      "metadata": {
        "id": "4GiQCWdUO-kg"
      },
      "execution_count": null,
      "outputs": []
    },
    {
      "cell_type": "code",
      "source": [
        "Significance of Confidence Intervals:\n",
        "Provides a range of plausible values for a population parameter.\n",
        "Indicates the reliability and precision of the estimate.\n",
        "Reflects the uncertainty inherent in sampling."
      ],
      "metadata": {
        "id": "mj1nr0UoO-pB"
      },
      "execution_count": null,
      "outputs": []
    },
    {
      "cell_type": "code",
      "source": [
        "#19. What is the relationship between a Z-score and a confidence interval)"
      ],
      "metadata": {
        "id": "3h5Bli7aO-sk"
      },
      "execution_count": null,
      "outputs": []
    },
    {
      "cell_type": "code",
      "source": [
        "Relationship Between Z-Score and Confidence Interval:\n",
        "Z-scores determine the critical values that define the range of confidence intervals.\n",
        "For example, a 95% confidence interval uses a Z-score of approximately ±1.96.\n"
      ],
      "metadata": {
        "id": "vakYuuKAO-vi"
      },
      "execution_count": null,
      "outputs": []
    },
    {
      "cell_type": "code",
      "source": [
        "#20. How are Z-scores used to compare different distributions)"
      ],
      "metadata": {
        "id": "5gzncWdqdllW"
      },
      "execution_count": null,
      "outputs": []
    },
    {
      "cell_type": "code",
      "source": [
        "Comparing Different Distributions Using Z-Scores:\n",
        "Z-scores standardize data across different distributions.\n",
        "Allows for comparison regardless of differences in means or standard deviations.\n"
      ],
      "metadata": {
        "id": "9ejejjBxdlt-"
      },
      "execution_count": null,
      "outputs": []
    },
    {
      "cell_type": "code",
      "source": [
        "#21.What are the assumptions for applying the Central Limit Theorem"
      ],
      "metadata": {
        "id": "_yoqixP-dlzt"
      },
      "execution_count": null,
      "outputs": []
    },
    {
      "cell_type": "code",
      "source": [
        "Assumptions for Applying the Central Limit Theorem:\n",
        "The sample size is sufficiently large (\n",
        "𝑛\n",
        "≥\n",
        "30\n",
        "n≥30).\n",
        "Samples are independent of each other.\n",
        "The population has finite variance."
      ],
      "metadata": {
        "id": "ULT2wpnSdl34"
      },
      "execution_count": null,
      "outputs": []
    },
    {
      "cell_type": "code",
      "source": [
        "#22. What is the concept of expected value in a probability distribution)"
      ],
      "metadata": {
        "id": "buDMP-tjdl8F"
      },
      "execution_count": null,
      "outputs": []
    },
    {
      "cell_type": "code",
      "source": [
        "Expected Value in Probability Distribution:\n",
        "Definition: The long-term average or mean of a random variable, calculated as\n",
        "𝐸\n",
        "(\n",
        "𝑋\n",
        ")\n",
        "=\n",
        "∑\n",
        "[\n",
        "𝑥\n",
        "⋅\n",
        "𝑃\n",
        "(\n",
        "𝑥\n",
        ")\n",
        "]\n",
        "E(X)=∑[x⋅P(x)].\n",
        "Significance: Represents the central tendency of the probability distribution."
      ],
      "metadata": {
        "id": "zkuZW6SPdmA6"
      },
      "execution_count": null,
      "outputs": []
    },
    {
      "cell_type": "code",
      "source": [
        "#23. How does a probability distribution relate to the expected outcome of a random variable?"
      ],
      "metadata": {
        "id": "cMLM_ztedmFk"
      },
      "execution_count": null,
      "outputs": []
    },
    {
      "cell_type": "code",
      "source": [
        "Relationship Between Probability Distribution and Expected Outcome:\n",
        "A probability distribution defines the likelihood of different outcomes for a random variable.\n",
        "The expected value summarizes these outcomes as a weighted average based on their probabilities."
      ],
      "metadata": {
        "id": "MwASEbcSdmJ4"
      },
      "execution_count": null,
      "outputs": []
    },
    {
      "cell_type": "code",
      "source": [
        "#PRACTICAL QUESTION"
      ],
      "metadata": {
        "id": "_iyC9l0AdmNv"
      },
      "execution_count": null,
      "outputs": []
    },
    {
      "cell_type": "code",
      "source": [
        "#1.  Write a Python program to generate a random variable and display its value?"
      ],
      "metadata": {
        "id": "7e_-OQcDdmRk"
      },
      "execution_count": null,
      "outputs": []
    },
    {
      "cell_type": "code",
      "source": [
        "Here's a Python program to generate a random variable and display its value:\n",
        "\n",
        "python\n",
        "Copy\n",
        "Edit\n",
        "import random\n",
        "\n",
        "# Generate a random integer between 1 and 100\n",
        "random_variable = random.randint(1, 100)\n",
        "\n",
        "# Display the value of the random variable\n",
        "print(\"The generated random variable is:\", random_variable)"
      ],
      "metadata": {
        "id": "EIgSiHBheXNE"
      },
      "execution_count": null,
      "outputs": []
    },
    {
      "cell_type": "code",
      "source": [
        "#2. Generate a discrete uniform distribution using Python and plot the probability mass function (PMF)>"
      ],
      "metadata": {
        "id": "JNAVkvKUeXSS"
      },
      "execution_count": null,
      "outputs": []
    },
    {
      "cell_type": "code",
      "source": [
        "import numpy as np\n",
        "import matplotlib.pyplot as plt\n",
        "from scipy.stats import randint\n",
        "\n",
        "# Parameters of the discrete uniform distribution\n",
        "low = 1  # inclusive lower bound\n",
        "high = 10  # exclusive upper bound\n",
        "\n",
        "# Generate the discrete uniform distribution\n",
        "x = np.arange(low, high)\n",
        "pmf = randint.pmf(x, low, high)\n",
        "\n",
        "# Plot the PMF\n",
        "plt.bar(x, pmf, color='skyblue', edgecolor='black', alpha=0.7)\n",
        "plt.title('Probability Mass Function of a Discrete Uniform Distribution')\n",
        "plt.xlabel('Value')\n",
        "plt.ylabel('Probability')\n",
        "plt.xticks(x)\n",
        "plt.grid(axis='y', linestyle='--', alpha=0.7)\n",
        "plt.show()\n"
      ],
      "metadata": {
        "id": "oO8ZBAGneXbe"
      },
      "execution_count": null,
      "outputs": []
    },
    {
      "cell_type": "code",
      "source": [
        "#3.Write a Python function to calculate the probability distribution function (PDF) of a Bernoulli distribution"
      ],
      "metadata": {
        "id": "np95Tb74eXfK"
      },
      "execution_count": null,
      "outputs": []
    },
    {
      "cell_type": "code",
      "source": [
        "# 1. Bernoulli PDF\n",
        "def bernoulli_pdf(p):\n",
        "    x = [0, 1]\n",
        "    pdf = bernoulli.pmf(x, p)\n",
        "    for i, prob in zip(x, pdf):\n",
        "        print(f\"P(X={i}) = {prob}\")\n",
        "\n",
        "bernoulli_pdf(0.5)"
      ],
      "metadata": {
        "id": "oiZXPaU2eXjd"
      },
      "execution_count": null,
      "outputs": []
    },
    {
      "cell_type": "code",
      "source": [
        "#4. Write a Python script to simulate a binomial distribution with n=10 and p=0.5, then plot its histogram"
      ],
      "metadata": {
        "id": "ApWm7KaSeXnv"
      },
      "execution_count": null,
      "outputs": []
    },
    {
      "cell_type": "code",
      "source": [
        " Binomial Distribution Simulation\n",
        "def simulate_binomial(n, p):\n",
        "    data = binom.rvs(n=n, p=p, size=10000)\n",
        "    plt.hist(data, bins=n+1, density=True, alpha=0.6, color='blue', edgecolor='black')\n",
        "    plt.title(f\"Binomial Distribution (n={n}, p={p})\")\n",
        "    plt.xlabel(\"Number of Successes\")\n",
        "    plt.ylabel(\"Probability\")\n",
        "    plt.show()"
      ],
      "metadata": {
        "id": "3zzRa9dAeXsd"
      },
      "execution_count": null,
      "outputs": []
    },
    {
      "cell_type": "code",
      "source": [
        "#5. Create a Poisson distribution and visualize it using Python."
      ],
      "metadata": {
        "id": "xXeThMaDeXwx"
      },
      "execution_count": null,
      "outputs": []
    },
    {
      "cell_type": "code",
      "source": [
        "Poisson Distribution Visualization\n",
        "def poisson_distribution(mu):\n",
        "    data = poisson.rvs(mu=mu, size=10000)\n",
        "    plt.hist(data, bins=np.arange(data.min(), data.max() + 1) - 0.5, density=True, alpha=0.6, color='green', edgecolor='black')\n",
        "    plt.title(f\"Poisson Distribution (mu={mu})\")\n",
        "    plt.xlabel(\"Number of Events\")\n",
        "    plt.ylabel(\"Probability\")\n",
        "    plt.show()\n"
      ],
      "metadata": {
        "id": "3h-RbHSieX0S"
      },
      "execution_count": null,
      "outputs": []
    },
    {
      "cell_type": "code",
      "source": [
        "#6.  Write a Python program to calculate and plot the cumulative distribution function (CDF) of a discrete\n",
        "# uniform distribution>"
      ],
      "metadata": {
        "id": "9Jvj4ImgeX4T"
      },
      "execution_count": null,
      "outputs": []
    },
    {
      "cell_type": "code",
      "source": [
        "CDF of Discrete Uniform Distribution\n",
        "def discrete_uniform_cdf(low, high):\n",
        "    x = np.arange(low, high + 1)\n",
        "    cdf = uniform.cdf(x, loc=low, scale=high - low + 1)\n",
        "    plt.step(x, cdf, where='post', label=\"CDF\")\n",
        "    plt.title(f\"CDF of Discrete Uniform Distribution ({low}, {high})\")\n",
        "    plt.xlabel(\"Value\")\n",
        "    plt.ylabel(\"Cumulative Probability\")\n",
        "    plt.grid()\n",
        "    plt.legend()\n",
        "    plt.show()"
      ],
      "metadata": {
        "id": "9EG0q8jreYA9"
      },
      "execution_count": null,
      "outputs": []
    },
    {
      "cell_type": "code",
      "source": [
        "#7.Generate a continuous uniform distribution using NumPy and visualize it>"
      ],
      "metadata": {
        "id": "vvt_MklKgJsI"
      },
      "execution_count": null,
      "outputs": []
    },
    {
      "cell_type": "code",
      "source": [
        "Continuous Uniform Distribution Visualization\n",
        "def continuous_uniform_distribution(a, b):\n",
        "    data = uniform.rvs(loc=a, scale=b-a, size=10000)\n",
        "    plt.hist(data, bins=30, density=True, alpha=0.6, color='purple', edgecolor='black')\n",
        "    plt.title(f\"Continuous Uniform Distribution (a={a}, b={b})\")\n",
        "    plt.xlabel(\"Value\")\n",
        "    plt.ylabel(\"Density\")\n",
        "    plt.show()"
      ],
      "metadata": {
        "id": "ydaeLudKeYEb"
      },
      "execution_count": null,
      "outputs": []
    },
    {
      "cell_type": "code",
      "source": [
        "#8.  Simulate data from a normal distribution and plot its histogram>"
      ],
      "metadata": {
        "id": "RYEZUYzagPqB"
      },
      "execution_count": null,
      "outputs": []
    },
    {
      "cell_type": "code",
      "source": [
        "1. Simulate Data from a Normal Distribution and Plot Its Histogram\n",
        "python\n",
        "Copy\n",
        "Edit\n",
        "import numpy as np\n",
        "import matplotlib.pyplot as plt\n",
        "\n",
        "# Simulate data\n",
        "np.random.seed(42)  # For reproducibility\n",
        "data = np.random.normal(loc=0, scale=1, size=1000)  # Mean=0, StdDev=1, 1000 samples\n",
        "\n",
        "# Plot histogram\n",
        "plt.hist(data, bins=30, edgecolor='k', alpha=0.7)\n",
        "plt.title(\"Histogram of Normally Distributed Data\")\n",
        "plt.xlabel(\"Value\")\n",
        "plt.ylabel(\"Frequency\")\n",
        "plt.grid(True, alpha=0.3)\n",
        "plt.show()"
      ],
      "metadata": {
        "id": "dTWtLGBfgPwY"
      },
      "execution_count": null,
      "outputs": []
    },
    {
      "cell_type": "code",
      "source": [
        "#9. Write a Python function to calculate Z-scores from a dataset and plot them"
      ],
      "metadata": {
        "id": "P9QgISXQgP2s"
      },
      "execution_count": null,
      "outputs": []
    },
    {
      "cell_type": "code",
      "source": [
        "def calculate_z_scores(data):\n",
        "    \"\"\"\n",
        "    Calculate Z-scores for a dataset.\n",
        "    Z = (X - mean) / standard deviation\n",
        "    \"\"\"\n",
        "    mean = np.mean(data)\n",
        "    std_dev = np.std(data)\n",
        "    z_scores = (data - mean) / std_dev\n",
        "    return z_scores\n",
        "\n",
        "# Calculate Z-scores\n",
        "z_scores = calculate_z_scores(data)\n",
        "\n",
        "# Plot Z-scores\n",
        "plt.hist(z_scores, bins=30, edgecolor='k', alpha=0.7)\n",
        "plt.title(\"Histogram of Z-Scores\")\n",
        "plt.xlabel(\"Z-Score\")\n",
        "plt.ylabel(\"Frequency\")\n",
        "plt.grid(True, alpha=0.3)\n",
        "plt.show()"
      ],
      "metadata": {
        "id": "Q5Nmg3TWgP7U"
      },
      "execution_count": null,
      "outputs": []
    },
    {
      "cell_type": "code",
      "source": [
        "#10. Implement the Central Limit Theorem (CLT) using Python for a non-normal distribution."
      ],
      "metadata": {
        "id": "423Y-ODKgP_q"
      },
      "execution_count": null,
      "outputs": []
    },
    {
      "cell_type": "code",
      "source": [
        "# Simulate a non-normal distribution: Exponential\n",
        "non_normal_data = np.random.exponential(scale=2, size=1000)  # Scale = mean of distribution\n",
        "\n",
        "# Apply Central Limit Theorem\n",
        "sample_means = []\n",
        "sample_size = 30  # CLT holds for sufficiently large sample sizes\n",
        "\n",
        "for _ in range(1000):  # Number of samples\n",
        "    sample = np.random.choice(non_normal_data, size=sample_size)\n",
        "    sample_means.append(np.mean(sample))\n",
        "\n",
        "# Plot histogram of the sample means\n",
        "plt.hist(sample_means, bins=30, edgecolor='k', alpha=0.7)\n",
        "plt.title(\"Distribution of Sample Means (CLT in Action)\")\n",
        "plt.xlabel(\"Sample Mean\")\n",
        "plt.ylabel(\"Frequency\")\n",
        "plt.grid(True, alpha=0.3)\n",
        "plt.show()"
      ],
      "metadata": {
        "id": "M_RaGo9SgQEL"
      },
      "execution_count": null,
      "outputs": []
    },
    {
      "cell_type": "code",
      "source": [
        "#15. Simulate multiple samples from a normal distribution and verify the Central Limit Theorem5"
      ],
      "metadata": {
        "id": "3k0b0MmRgvEd"
      },
      "execution_count": null,
      "outputs": []
    },
    {
      "cell_type": "code",
      "source": [
        "1. Simulate multiple samples from a normal distribution and verify the Central Limit Theorem\n",
        "python\n",
        "Copy\n",
        "Edit\n",
        "import numpy as np\n",
        "import matplotlib.pyplot as plt\n",
        "\n",
        "def central_limit_theorem_demo(sample_size=30, num_samples=1000):\n",
        "    population = np.random.normal(0, 1, 10000)  # Large population\n",
        "    sample_means = [np.mean(np.random.choice(population, sample_size)) for _ in range(num_samples)]\n",
        "\n",
        "    plt.hist(sample_means, bins=30, density=True, alpha=0.6, color='blue')\n",
        "    plt.title(\"Sampling Distribution of the Mean\")\n",
        "    plt.xlabel(\"Sample Mean\")\n",
        "    plt.ylabel(\"Density\")\n",
        "    plt.show()\n",
        "\n",
        "central_limit_theorem_demo()"
      ],
      "metadata": {
        "id": "pNE_3X91gvMB"
      },
      "execution_count": null,
      "outputs": []
    },
    {
      "cell_type": "code",
      "source": [
        "#16.  Write a Python function to calculate and plot the standard normal distribution (mean = 0, std = 1)5"
      ],
      "metadata": {
        "id": "Bh9g_hOQgvSl"
      },
      "execution_count": null,
      "outputs": []
    },
    {
      "cell_type": "code",
      "source": [
        "from scipy.stats import norm\n",
        "\n",
        "def plot_standard_normal():\n",
        "    x = np.linspace(-4, 4, 1000)\n",
        "    y = norm.pdf(x, 0, 1)\n",
        "    plt.plot(x, y, label='Standard Normal PDF')\n",
        "    plt.title(\"Standard Normal Distribution\")\n",
        "    plt.xlabel(\"Z\")\n",
        "    plt.ylabel(\"Density\")\n",
        "    plt.legend()\n",
        "    plt.show()\n",
        "\n",
        "plot_standard_normal()"
      ],
      "metadata": {
        "id": "ikJKwLW7gvYE"
      },
      "execution_count": null,
      "outputs": []
    },
    {
      "cell_type": "code",
      "source": [
        "#17. Generate random variables and calculate their corresponding probabilities using the binomial distribution"
      ],
      "metadata": {
        "id": "HGH49_OKgvdD"
      },
      "execution_count": null,
      "outputs": []
    },
    {
      "cell_type": "code",
      "source": [
        "from scipy.stats import binom\n",
        "\n",
        "def binomial_demo(n=10, p=0.5, size=100):\n",
        "    data = np.random.binomial(n, p, size)\n",
        "    probabilities = [binom.pmf(k, n, p) for k in range(n + 1)]\n",
        "\n",
        "    plt.bar(range(n + 1), probabilities, alpha=0.6, color='orange')\n",
        "    plt.title(\"Binomial Distribution PMF\")\n",
        "    plt.xlabel(\"Number of Successes\")\n",
        "    plt.ylabel(\"Probability\")\n",
        "    plt.show()\n",
        "\n",
        "binomial_demo()"
      ],
      "metadata": {
        "id": "ttpMGC3bhGnf"
      },
      "execution_count": null,
      "outputs": []
    },
    {
      "cell_type": "code",
      "source": [
        "#18. Write a Python program to calculate the Z-score for a given data point and compare it to a standard normal\n",
        "#distribution"
      ],
      "metadata": {
        "id": "SP86AlPOhG2l"
      },
      "execution_count": null,
      "outputs": []
    },
    {
      "cell_type": "code",
      "source": [
        "def calculate_z_score(data, point):\n",
        "    mean = np.mean(data)\n",
        "    std_dev = np.std(data)\n",
        "    z_score = (point - mean) / std_dev\n",
        "    return z_score\n",
        "\n",
        "data = np.random.normal(50, 10, 1000)\n",
        "point = 60\n",
        "print(f\"Z-score for {point}: {calculate_z_score(data, point)}\")"
      ],
      "metadata": {
        "id": "4yjIBR0UhG-q"
      },
      "execution_count": null,
      "outputs": []
    },
    {
      "cell_type": "code",
      "source": [
        "#19. Implement hypothesis testing using Z-statistics for a sample dataset5"
      ],
      "metadata": {
        "id": "PMMAq4XShHGA"
      },
      "execution_count": null,
      "outputs": []
    },
    {
      "cell_type": "code",
      "source": [
        "from scipy.stats import norm\n",
        "\n",
        "def hypothesis_testing(sample_mean, population_mean, std_dev, n, alpha=0.05):\n",
        "    z = (sample_mean - population_mean) / (std_dev / np.sqrt(n))\n",
        "    p_value = 2 * (1 - norm.cdf(abs(z)))  # Two-tailed test\n",
        "    return z, p_value, p_value < alpha\n",
        "\n",
        "z, p_value, reject = hypothesis_testing(52, 50, 10, 30)\n",
        "print(f\"Z: {z}, P-value: {p_value}, Reject Null: {reject}\")\n"
      ],
      "metadata": {
        "id": "AZZa1ggShHMN"
      },
      "execution_count": null,
      "outputs": []
    },
    {
      "cell_type": "code",
      "source": [
        "#20. Create a confidence interval for a dataset using Python and interpret the result5"
      ],
      "metadata": {
        "id": "r65NTo_nhHTQ"
      },
      "execution_count": null,
      "outputs": []
    },
    {
      "cell_type": "code",
      "source": [
        "ef confidence_interval(data, confidence=0.95):\n",
        "    mean = np.mean(data)\n",
        "    std_err = np.std(data) / np.sqrt(len(data))\n",
        "    margin = norm.ppf((1 + confidence) / 2) * std_err\n",
        "    return mean - margin, mean + margin\n",
        "\n",
        "data = np.random.normal(50, 10, 100)\n",
        "print(\"Confidence Interval:\", confidence_interval(data))"
      ],
      "metadata": {
        "id": "x6po7_xohHel"
      },
      "execution_count": null,
      "outputs": []
    },
    {
      "cell_type": "code",
      "source": [
        "#21.Generate data from a normal distribution, then calculate and interpret the confidence interval for its mean."
      ],
      "metadata": {
        "id": "4eFg9RlfhHna"
      },
      "execution_count": null,
      "outputs": []
    },
    {
      "cell_type": "code",
      "source": [
        "To generate data from a normal distribution, calculate the confidence interval (CI) for its mean, and interpret the result, we can follow these steps:\n",
        "\n",
        "Generate data: We'll simulate\n",
        "𝑛\n",
        "n random values from a normal distribution with a specified mean (\n",
        "𝜇\n",
        "μ) and standard deviation (\n",
        "𝜎\n",
        "σ).\n",
        "\n",
        "Calculate the sample mean and standard deviation: Compute the sample mean (\n",
        "𝑥\n",
        "ˉ\n",
        "x\n",
        "ˉ\n",
        " ) and standard deviation (\n",
        "𝑠\n",
        "s).\n",
        "\n",
        "Compute the confidence interval: The confidence interval for the mean is calculated as:\n",
        "\n",
        "CI\n",
        "=\n",
        "𝑥\n",
        "ˉ\n",
        "±\n",
        "𝑡\n",
        "∗\n",
        "⋅\n",
        "𝑠\n",
        "𝑛\n",
        "CI=\n",
        "x\n",
        "ˉ\n",
        " ±t\n",
        "∗\n",
        " ⋅\n",
        "n\n",
        "​\n",
        "\n",
        "s\n",
        "​\n",
        "\n",
        "Where:\n",
        "\n",
        "𝑡\n",
        "∗\n",
        "t\n",
        "∗\n",
        "  is the critical value from the\n",
        "𝑡\n",
        "t-distribution for the desired confidence level and degrees of freedom (\n",
        "𝑛\n",
        "−\n",
        "1\n",
        "n−1).\n",
        "𝑠\n",
        "𝑛\n",
        "n\n",
        "​\n",
        "\n",
        "s\n",
        "​\n",
        "  is the standard error of the mean.\n",
        "Interpret the confidence interval: The CI provides a range of values within which the true population mean is expected to lie with a specified confidence level (e.g., 95%).\n",
        "\n",
        "Let's calculate this using Python."
      ],
      "metadata": {
        "id": "unMNNGeZhHrg"
      },
      "execution_count": null,
      "outputs": []
    },
    {
      "cell_type": "code",
      "source": [
        "#22. Write a Python script to calculate and visualize the probability density function (PDF) of a normal distribution5"
      ],
      "metadata": {
        "id": "3W3oIDg4hHv5"
      },
      "execution_count": null,
      "outputs": []
    },
    {
      "cell_type": "code",
      "source": [
        "def plot_normal_pdf(mean=0, std_dev=1):\n",
        "    x = np.linspace(-4, 4, 1000)\n",
        "    y = norm.pdf(x, mean, std_dev)\n",
        "    plt.plot(x, y)\n",
        "    plt.title(\"Normal Distribution PDF\")\n",
        "    plt.xlabel(\"X\")\n",
        "    plt.ylabel(\"Density\")\n",
        "    plt.show()\n",
        "\n",
        "plot_normal_pdf()"
      ],
      "metadata": {
        "id": "PtKNLHG3hfEW"
      },
      "execution_count": null,
      "outputs": []
    },
    {
      "cell_type": "code",
      "source": [
        "#23. Use Python to calculate and interpret the cumulative distribution function (CDF) of a Poisson distribution"
      ],
      "metadata": {
        "id": "HTmO5KkEhfMG"
      },
      "execution_count": null,
      "outputs": []
    },
    {
      "cell_type": "code",
      "source": [
        "from scipy.stats import poisson\n",
        "\n",
        "def poisson_cdf_demo(lmbda=4, x_max=10):\n",
        "    x = range(0, x_max + 1)\n",
        "    cdf = poisson.cdf(x, lmbda)\n",
        "\n",
        "    plt.plot(x, cdf, marker='o', linestyle='--')\n",
        "    plt.title(\"Poisson Distribution CDF\")\n",
        "    plt.xlabel(\"X\")\n",
        "    plt.ylabel(\"Cumulative Probability\")\n",
        "    plt.show()\n",
        "\n",
        "poisson_cdf_demo()"
      ],
      "metadata": {
        "id": "TVOXGvv3hfRc"
      },
      "execution_count": null,
      "outputs": []
    },
    {
      "cell_type": "code",
      "source": [
        "#24. Simulate a random variable using a continuous uniform distribution and calculate its expected value5"
      ],
      "metadata": {
        "id": "LXpxwSCfhfW9"
      },
      "execution_count": null,
      "outputs": []
    },
    {
      "cell_type": "code",
      "source": [
        "def uniform_distribution_demo(a=0, b=10, size=1000):\n",
        "    data = np.random.uniform(a, b, size)\n",
        "    expected_value = np.mean(data)\n",
        "    print(f\"Expected Value: {expected_value}\")\n",
        "    return data\n",
        "\n",
        "uniform_distribution_demo()"
      ],
      "metadata": {
        "id": "K3RVrIzuhfcp"
      },
      "execution_count": null,
      "outputs": []
    },
    {
      "cell_type": "code",
      "source": [
        "#25. Write a Python program to compare the standard deviations of two datasets and visualize the difference5"
      ],
      "metadata": {
        "id": "fS7dH5w7hfjZ"
      },
      "execution_count": null,
      "outputs": []
    },
    {
      "cell_type": "code",
      "source": [
        "def compare_std(data1, data2):\n",
        "    std1, std2 = np.std(data1), np.std(data2)\n",
        "    print(f\"Dataset 1 Std: {std1}, Dataset 2 Std: {std2}\")\n",
        "\n",
        "data1 = np.random.normal(50, 5, 1000)\n",
        "data2 = np.random.normal(50, 10, 1000)\n",
        "compare_std(data1, data2)"
      ],
      "metadata": {
        "id": "QkEorMgHhfno"
      },
      "execution_count": null,
      "outputs": []
    },
    {
      "cell_type": "code",
      "source": [
        "#26. Calculate the range and interquartile range (IQR) of a dataset generated from a normal distribution5"
      ],
      "metadata": {
        "id": "UwCZHVPghfsb"
      },
      "execution_count": null,
      "outputs": []
    },
    {
      "cell_type": "code",
      "source": [
        "def calculate_iqr(data):\n",
        "    q1, q3 = np.percentile(data, [25, 75])\n",
        "    return q3 - q1\n",
        "\n",
        "data = np.random.normal(50, 10, 1000)\n",
        "print(f\"Range: {np.ptp(data)}, IQR: {calculate_iqr(data)}\")"
      ],
      "metadata": {
        "id": "zAfph6Kvhuwz"
      },
      "execution_count": null,
      "outputs": []
    },
    {
      "cell_type": "code",
      "source": [
        "#27. Implement Z-score normalization on a dataset and visualize its transformation5"
      ],
      "metadata": {
        "id": "kE8Mo7Fghu90"
      },
      "execution_count": null,
      "outputs": []
    },
    {
      "cell_type": "code",
      "source": [
        "def z_score_normalization(data):\n",
        "    normalized_data = (data - np.mean(data)) / np.std(data)\n",
        "    return normalized_data\n",
        "\n",
        "data = np.random.normal(50, 10, 100)\n",
        "plt.hist(z_score_normalization(data), bins=30, alpha=0.6)\n",
        "plt.title(\"Z-score Normalized Data\")\n",
        "plt.show()"
      ],
      "metadata": {
        "id": "LcIGofczhvJU"
      },
      "execution_count": null,
      "outputs": []
    },
    {
      "cell_type": "code",
      "source": [
        "#28. Write a Python function to calculate the skewness and kurtosis of a dataset generated from a normal\n",
        "#distribution"
      ],
      "metadata": {
        "id": "NaqtYcbzhvVa"
      },
      "execution_count": null,
      "outputs": []
    },
    {
      "cell_type": "code",
      "source": [
        "from scipy.stats import skew, kurtosis\n",
        "\n",
        "def calculate_skewness_kurtosis(data):\n",
        "    return skew(data), kurtosis(data)\n",
        "\n",
        "data = np.random.normal(50, 10, 1000)\n",
        "print(\"Skewness:\", calculate_skewness_kurtosis(data)[0])\n",
        "print(\"Kurtosis:\", calculate_skewness_kurtosis(data)[1])"
      ],
      "metadata": {
        "id": "oETa2ckDhvgh"
      },
      "execution_count": null,
      "outputs": []
    },
    {
      "cell_type": "code",
      "source": [
        "#END#"
      ],
      "metadata": {
        "id": "gsoEXKvQhvsR"
      },
      "execution_count": null,
      "outputs": []
    }
  ]
}